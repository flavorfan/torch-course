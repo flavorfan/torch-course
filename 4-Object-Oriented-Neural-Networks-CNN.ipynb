{
 "cells": [
  {
   "cell_type": "markdown",
   "metadata": {},
   "source": [
    "__ML Pipeline__: Prepare data -> __build model__ -> train model -> analyze model's results"
   ]
  },
  {
   "cell_type": "markdown",
   "metadata": {},
   "source": [
    "### OOP review"
   ]
  },
  {
   "cell_type": "markdown",
   "metadata": {},
   "source": [
    "When we’re writing programs or building software, there are two key components, __code__ and __data__. With object oriented programming, we orient our program design and structure around objects.\n",
    "\n",
    "Objects are defined in code using classes. A class defines the object's specification or spec, which specifies what data and code each object of the class should have. When we create an object of a class, we call the object an instance of the class, and all instances of a given class have two core components:\n",
    "\n",
    "* Methods (code)\n",
    "* Attributes (data)\n",
    "\n",
    "The methods represent the code, while the attributes represent the data, and so the methods and attributes are defined by the class.\n",
    "\n",
    "In a given program, many objects, a.k.a instances of a given class, can exist simultaneously, and all of the instances will have the same available attributes and the same available methods. They are uniform from this perspective. The difference between objects of the same class is the values contained within the object for each attribute. Each object has its own attribute values. These values determine the internal state of the object. The code and data of each object is said to be encapsulated within the object."
   ]
  },
  {
   "cell_type": "markdown",
   "metadata": {},
   "source": [
    "### `nn.Module`"
   ]
  },
  {
   "cell_type": "markdown",
   "metadata": {},
   "source": [
    "As we know, deep neural networks are built using multiple layers. This is what makes the network deep. Each layer in a neural network has two primary components:\n",
    "\n",
    "* A transformation (code)\n",
    "* A collection of weights (data)\n",
    "\n",
    "Within the `nn` package, there is a class called `Module`, and it is the __base class__ for all of neural network modules which includes layers. This means that all of the layers in PyTorch extend the `nn.Module` class and inherit all of PyTorch’s built-in functionality within the `nn.Module` class. In OOP this concept is known as __inheritance__.\n",
    "\n",
    "\n",
    "#### `forward()` method\n",
    "When we pass a tensor to our network as input, the __tensor flows__ forward though each layer transformation until the tensor reaches the output layer. This process of a tensor flowing forward though the network is known as a __forward pass__.\n",
    "\n",
    "Each layer has its own transformation (code) and the tensor passes forward through each layer. The composition of all the individual layer forward passes defines the overall forward pass transformation for the network. The goal of the overall transformation is to transform or map the input to the correct prediction output class, and during the training process, the layer weights (data) are updated in such a way that cause the mapping to adjust to make the output closer to the correct prediction. This is achieved efficiently by __backpropagation__.\n",
    "\n",
    "What this all means is that, every PyTorch `nn.Module` has a `forward()` method, and so when we are building layers and networks, we must provide an implementation of the `forward()` method. The forward method is the actual transformation.\n",
    "\n",
    "\n",
    "#### PyTorch’s `nn.functional` package\n",
    "\n",
    "The `nn.functional` package contains methods that subclasses of `nn.Module` use for implementing their `forward()` functions. One reason for this is that during backpropagation, the network must perform a __symbolic differentiation__ of the operations involved in the layers to calculate the gradient of the loss with respect to the weights.\n",
    "\n"
   ]
  },
  {
   "cell_type": "markdown",
   "metadata": {},
   "source": [
    "### Building a neural network in PyTorch\n",
    "\n",
    "To build a neural net in PyTorch one must extend the nn.Module base class. This is done in two steps:\n",
    "2. In the class constructor, define the network’s layers as class attributes using pre-built layers from `torch.nn`.\n",
    "3. Use the network’s layer attributes as well as operations from the `nn.functional` API to implement the `forward()`.\n",
    "\n"
   ]
  },
  {
   "cell_type": "code",
   "execution_count": 6,
   "metadata": {},
   "outputs": [],
   "source": [
    "import torch.nn as nn\n",
    "\n",
    "# a trivial neural net (zero layers)\n",
    "class Network(nn.Module): \n",
    "    def __init__(self):\n",
    "        super().__init__()\n",
    "        self.layer = None\n",
    "\n",
    "    def forward(self, t):\n",
    "        t = self.layer(t)\n",
    "        return t"
   ]
  },
  {
   "cell_type": "code",
   "execution_count": 16,
   "metadata": {},
   "outputs": [],
   "source": [
    "# a convolutional neural net\n",
    "class Network(nn.Module):\n",
    "    def __init__(self):\n",
    "        super().__init__()\n",
    "        # convolutional layers\n",
    "        self.conv1 = nn.Conv2d(in_channels=1, out_channels=6,  kernel_size=5)\n",
    "        self.conv2 = nn.Conv2d(in_channels=6, out_channels=12, kernel_size=5)\n",
    "        \n",
    "        # dense layers / fully connected layers with bias\n",
    "        self.fc1 = nn.Linear(in_features=12*4*4, out_features=120) # the 4*4 is the size of the image \n",
    "        self.fc2 = nn.Linear(in_features=120, out_features=60)     # after two convolutions and maxpoolings\n",
    "        self.out = nn.Linear(in_features=60,  out_features=10)  \n",
    "        \n",
    "    def forward(self, t):\n",
    "        # implement the forward pass\n",
    "        return t"
   ]
  },
  {
   "cell_type": "markdown",
   "metadata": {},
   "source": [
    "The above neural net has three hyperparameters that need to be manually specified:\n",
    "* `kernel_size.`  size of each convolutional filter\n",
    "* `out_channels` number of filters in the convolutional layer \n",
    "* `out_features` size of output tensor, i.e. the number of neurons in the dense layer\n",
    "\n",
    "Having `out_features=10` on the final output layer is a data dependent hyperparameter, i.e. fixed due to the nature of the problem.\n",
    "\n"
   ]
  },
  {
   "cell_type": "markdown",
   "metadata": {},
   "source": [
    "### Exploring weights inside layers\n",
    "\n",
    "Note that weights are hidden inside each layer object. \n"
   ]
  },
  {
   "cell_type": "code",
   "execution_count": 17,
   "metadata": {
    "scrolled": true
   },
   "outputs": [
    {
     "data": {
      "text/plain": [
       "Network(\n",
       "  (conv1): Conv2d(1, 6, kernel_size=(5, 5), stride=(1, 1))\n",
       "  (conv2): Conv2d(6, 12, kernel_size=(5, 5), stride=(1, 1))\n",
       "  (fc1): Linear(in_features=192, out_features=120, bias=True)\n",
       "  (fc2): Linear(in_features=120, out_features=60, bias=True)\n",
       "  (out): Linear(in_features=60, out_features=10, bias=True)\n",
       ")"
      ]
     },
     "execution_count": 17,
     "metadata": {},
     "output_type": "execute_result"
    }
   ],
   "source": [
    "network = Network()\n",
    "network # __repr__ is inherited from nn.Module, compiles all __repr__ of each layer"
   ]
  },
  {
   "cell_type": "code",
   "execution_count": 18,
   "metadata": {},
   "outputs": [
    {
     "data": {
      "text/plain": [
       "Conv2d(1, 6, kernel_size=(5, 5), stride=(1, 1))"
      ]
     },
     "execution_count": 18,
     "metadata": {},
     "output_type": "execute_result"
    }
   ],
   "source": [
    "network.conv1"
   ]
  },
  {
   "cell_type": "code",
   "execution_count": 19,
   "metadata": {
    "scrolled": true
   },
   "outputs": [
    {
     "data": {
      "text/plain": [
       "Linear(in_features=192, out_features=120, bias=True)"
      ]
     },
     "execution_count": 19,
     "metadata": {},
     "output_type": "execute_result"
    }
   ],
   "source": [
    "network.fc1"
   ]
  },
  {
   "cell_type": "code",
   "execution_count": 20,
   "metadata": {},
   "outputs": [
    {
     "data": {
      "text/plain": [
       "Linear(in_features=60, out_features=10, bias=True)"
      ]
     },
     "execution_count": 20,
     "metadata": {},
     "output_type": "execute_result"
    }
   ],
   "source": [
    "network.out"
   ]
  },
  {
   "cell_type": "code",
   "execution_count": 21,
   "metadata": {
    "scrolled": true
   },
   "outputs": [
    {
     "data": {
      "text/plain": [
       "Parameter containing:\n",
       "tensor([[[[ 1.1348e-02,  4.9267e-02,  6.7093e-02, -2.3057e-03,  1.2068e-01],\n",
       "          [-9.1672e-02, -3.7426e-02,  3.9739e-02,  2.2699e-02, -8.1734e-02],\n",
       "          [ 4.9805e-02, -6.2236e-02, -1.8269e-01,  2.3222e-02,  6.1987e-02],\n",
       "          [-9.3013e-02,  2.8724e-02,  1.0245e-02, -1.6146e-01, -1.2110e-01],\n",
       "          [-1.7277e-01, -5.1031e-02,  1.8533e-01,  4.2018e-02, -6.6643e-02]]],\n",
       "\n",
       "\n",
       "        [[[-6.1858e-02,  1.7428e-01, -6.0446e-02, -1.7695e-01,  8.7776e-03],\n",
       "          [ 6.8527e-03, -7.2329e-03,  7.8254e-02, -8.3645e-02, -3.7657e-02],\n",
       "          [ 9.4857e-02,  5.0469e-02,  9.6508e-02, -8.7914e-02,  1.5690e-01],\n",
       "          [ 1.9239e-01,  4.2311e-02,  1.1048e-01, -7.8983e-02,  1.8668e-01],\n",
       "          [ 6.7862e-02, -8.4667e-02,  1.8461e-02, -1.6118e-01,  8.4302e-03]]],\n",
       "\n",
       "\n",
       "        [[[-1.7109e-01,  9.8156e-03,  2.6306e-02, -1.8364e-01,  3.9601e-02],\n",
       "          [ 4.2165e-02,  1.6582e-01,  1.6934e-01,  1.8548e-01,  1.0648e-02],\n",
       "          [-6.7339e-02,  3.3194e-02, -8.1186e-03,  1.4333e-01, -9.1342e-02],\n",
       "          [ 1.3197e-01,  3.3348e-02, -1.6041e-02,  1.0988e-01, -1.5347e-01],\n",
       "          [-1.1919e-01,  1.6398e-01,  1.1046e-01, -1.3253e-01, -1.4750e-01]]],\n",
       "\n",
       "\n",
       "        [[[ 1.6007e-01,  1.8737e-02,  1.3008e-01,  3.5468e-03, -1.0305e-01],\n",
       "          [ 7.9619e-02,  1.8713e-01,  1.9521e-01,  6.7025e-05, -1.2647e-02],\n",
       "          [-5.7712e-03, -1.5255e-01,  1.8705e-01,  8.4768e-02,  1.5304e-01],\n",
       "          [-9.4088e-02, -1.8370e-01,  1.9087e-01,  1.7842e-01, -1.1169e-01],\n",
       "          [-2.0577e-02,  4.3563e-02, -1.9665e-01, -1.4514e-01, -7.4735e-02]]],\n",
       "\n",
       "\n",
       "        [[[ 1.2785e-01, -1.3472e-01, -1.7397e-01,  7.0341e-02, -1.4341e-01],\n",
       "          [-1.7165e-01, -1.9069e-01,  1.4266e-02, -4.0582e-02, -1.8933e-01],\n",
       "          [-1.8656e-01, -1.2194e-01,  2.8625e-03, -1.3311e-01, -1.7279e-01],\n",
       "          [ 3.0518e-02, -9.3732e-02, -6.4449e-02, -8.2512e-02, -1.6031e-01],\n",
       "          [ 4.7673e-03, -8.4148e-02,  1.1315e-01,  1.3989e-01, -9.2562e-02]]],\n",
       "\n",
       "\n",
       "        [[[-1.8229e-02,  9.0766e-02,  3.9724e-02, -7.9175e-02, -1.0871e-01],\n",
       "          [ 1.9491e-01, -9.1112e-02,  1.7472e-01, -1.4318e-01,  9.3618e-02],\n",
       "          [ 1.3959e-01, -1.3264e-01,  1.6456e-02,  5.4087e-02, -9.7384e-02],\n",
       "          [ 5.7928e-02, -1.1002e-01, -1.9135e-01, -1.9196e-01,  1.4404e-01],\n",
       "          [ 8.9604e-02,  1.7785e-02,  1.4238e-01, -7.2865e-02, -7.3295e-02]]]],\n",
       "       requires_grad=True)"
      ]
     },
     "execution_count": 21,
     "metadata": {},
     "output_type": "execute_result"
    }
   ],
   "source": [
    "network.conv1.weight # weights of the convolutional layer; these are actually the six  5x5 convolutional filters."
   ]
  },
  {
   "cell_type": "code",
   "execution_count": 158,
   "metadata": {},
   "outputs": [
    {
     "data": {
      "image/png": "[encoded data removed]",
      "text/plain": [
       "<Figure size 576x576 with 6 Axes>"
      ]
     },
     "metadata": {
      "needs_background": "light"
     },
     "output_type": "display_data"
    }
   ],
   "source": [
    "# filters as images (untrained, randomized)\n",
    "import matplotlib.pyplot as plt \n",
    "\n",
    "plt.figure(figsize=(8,8))\n",
    "for i in range(1,7):\n",
    "    plt.subplot(2, 3, i)\n",
    "    plt.imshow(network.conv1.weight[0].squeeze().detach().numpy(), cmap='gray')\n",
    "    plt.title(f'Filter {i-1}')"
   ]
  },
  {
   "cell_type": "code",
   "execution_count": 24,
   "metadata": {},
   "outputs": [
    {
     "data": {
      "text/plain": [
       "torch.Size([6, 1, 5, 5])"
      ]
     },
     "execution_count": 24,
     "metadata": {},
     "output_type": "execute_result"
    }
   ],
   "source": [
    "network.conv1.weight.shape"
   ]
  },
  {
   "cell_type": "code",
   "execution_count": 25,
   "metadata": {},
   "outputs": [
    {
     "data": {
      "text/plain": [
       "torch.Size([12, 6, 5, 5])"
      ]
     },
     "execution_count": 25,
     "metadata": {},
     "output_type": "execute_result"
    }
   ],
   "source": [
    "network.conv2.weight.shape"
   ]
  },
  {
   "cell_type": "markdown",
   "metadata": {},
   "source": [
    "Here the twelve 5$\\times$5 stacked filters convolve above six stacked input images which are the output of the first convolution. "
   ]
  },
  {
   "cell_type": "code",
   "execution_count": 29,
   "metadata": {},
   "outputs": [
    {
     "data": {
      "text/plain": [
       "torch.Size([120, 192])"
      ]
     },
     "execution_count": 29,
     "metadata": {},
     "output_type": "execute_result"
    }
   ],
   "source": [
    "network.fc1.weight.shape"
   ]
  },
  {
   "cell_type": "code",
   "execution_count": 4,
   "metadata": {},
   "outputs": [
    {
     "data": {
      "text/plain": [
       "(192,)"
      ]
     },
     "execution_count": 4,
     "metadata": {},
     "output_type": "execute_result"
    }
   ],
   "source": [
    "import torch\n",
    "import numpy as np\n",
    "x = np.random.random(192)\n",
    "x.shape"
   ]
  },
  {
   "cell_type": "code",
   "execution_count": 49,
   "metadata": {},
   "outputs": [
    {
     "data": {
      "text/plain": [
       "torch.Size([120])"
      ]
     },
     "execution_count": 49,
     "metadata": {},
     "output_type": "execute_result"
    }
   ],
   "source": [
    "network.fc1.weight.matmul(torch.as_tensor(x).float()).shape"
   ]
  },
  {
   "cell_type": "markdown",
   "metadata": {},
   "source": [
    "The operation `A.matmul(x)` infers due to incompatibility in shape that it must perform $x A^T$ instead of the default $Ax$."
   ]
  },
  {
   "cell_type": "code",
   "execution_count": 5,
   "metadata": {},
   "outputs": [],
   "source": [
    "A = np.array([[1, 2],\n",
    "              [3, 4],\n",
    "              [0, 0]])\n",
    "\n",
    "x = np.array([1, 1])"
   ]
  },
  {
   "cell_type": "code",
   "execution_count": 6,
   "metadata": {},
   "outputs": [
    {
     "data": {
      "text/plain": [
       "tensor([3, 7, 0])"
      ]
     },
     "execution_count": 6,
     "metadata": {},
     "output_type": "execute_result"
    }
   ],
   "source": [
    "torch.tensor(A).matmul(torch.tensor(x))"
   ]
  },
  {
   "cell_type": "code",
   "execution_count": 7,
   "metadata": {},
   "outputs": [
    {
     "data": {
      "text/plain": [
       "array([3, 7, 0])"
      ]
     },
     "execution_count": 7,
     "metadata": {},
     "output_type": "execute_result"
    }
   ],
   "source": [
    "np.matmul(x, A.T)"
   ]
  },
  {
   "cell_type": "code",
   "execution_count": 59,
   "metadata": {
    "scrolled": true
   },
   "outputs": [
    {
     "name": "stdout",
     "output_type": "stream",
     "text": [
      "conv1.weight \t torch.Size([6, 1, 5, 5])\n",
      "conv1.bias \t torch.Size([6])\n",
      "conv2.weight \t torch.Size([12, 6, 5, 5])\n",
      "conv2.bias \t torch.Size([12])\n",
      "fc1.weight \t torch.Size([120, 192])\n",
      "fc1.bias \t torch.Size([120])\n",
      "fc2.weight \t torch.Size([60, 120])\n",
      "fc2.bias \t torch.Size([60])\n",
      "out.weight \t torch.Size([10, 60])\n",
      "out.bias \t torch.Size([10])\n"
     ]
    }
   ],
   "source": [
    "for name, weight in network.named_parameters():\n",
    "    print(name, '\\t', weight.shape)"
   ]
  },
  {
   "cell_type": "code",
   "execution_count": 61,
   "metadata": {
    "scrolled": true
   },
   "outputs": [
    {
     "data": {
      "text/plain": [
       "Parameter containing:\n",
       "tensor([[ 0.0314, -0.0372, -0.0415,  ..., -0.0323,  0.0087,  0.0680],\n",
       "        [ 0.0300,  0.0337, -0.0038,  ...,  0.0493,  0.0219, -0.0557],\n",
       "        [ 0.0176,  0.0118,  0.0431,  ...,  0.0032,  0.0044, -0.0332],\n",
       "        ...,\n",
       "        [-0.0340, -0.0482, -0.0081,  ...,  0.0624, -0.0540, -0.0497],\n",
       "        [ 0.0485, -0.0141,  0.0191,  ...,  0.0559, -0.0340, -0.0593],\n",
       "        [-0.0067, -0.0101, -0.0276,  ...,  0.0545, -0.0584,  0.0594]],\n",
       "       requires_grad=True)"
      ]
     },
     "execution_count": 61,
     "metadata": {},
     "output_type": "execute_result"
    }
   ],
   "source": [
    "network.fc1.weight # 192 weights for each of the 120 output neurons +1 for bias, the bias tensor of size 120."
   ]
  },
  {
   "cell_type": "markdown",
   "metadata": {},
   "source": [
    "For the convolutional layer, we have one scalar value for each filter.  "
   ]
  },
  {
   "cell_type": "markdown",
   "metadata": {},
   "source": [
    "### Forward method implementation"
   ]
  },
  {
   "cell_type": "markdown",
   "metadata": {},
   "source": [
    "Forward pass describes how an input tensor is processed as it flows across the layers.\n",
    "\n",
    "__tensor flow__: \n",
    "tensor -> input layer -> hiden layers -> output layer -> tensor"
   ]
  },
  {
   "cell_type": "code",
   "execution_count": 325,
   "metadata": {
    "deletable": false,
    "editable": false
   },
   "outputs": [],
   "source": [
    "import torch\n",
    "import torch.nn as nn\n",
    "import torch.nn.functional as F\n",
    "\n",
    "class Network(nn.Module):\n",
    "    def __init__(self, channels=1): # default grayscale\n",
    "        super().__init__()\n",
    "        self.conv1 = nn.Conv2d(in_channels=channels, out_channels=6, kernel_size=5) \n",
    "        self.conv2 = nn.Conv2d(in_channels=6, out_channels=12, kernel_size=5)\n",
    "        \n",
    "        self.fc1 = nn.Linear(in_features=12*4*4, out_features=120) # ((28-5+1)/2 -5 +1)/2 = 4\n",
    "        self.fc2 = nn.Linear(in_features=120, out_features=60)\n",
    "        self.out = nn.Linear(in_features=60, out_features=10)\n",
    "        \n",
    "    def forward(self, t):\n",
    "        # (1) input layer\n",
    "        t = t\n",
    "        \n",
    "        # (2) hidden conv layer\n",
    "        t = self.conv1(t)\n",
    "        t = F.relu(t) # activation_function='relu' in tf.keras      \n",
    "        t = F.max_pool2d(t, kernel_size=2, stride=2)\n",
    "        \n",
    "        # (3) hidden conv layer\n",
    "        t = self.conv2(t)\n",
    "        t = F.relu(t)\n",
    "        t = F.max_pool2d(t, kernel_size=2, stride=2)\n",
    "\n",
    "        # (4) hidden linear layer\n",
    "        t = t.reshape(-1, 12*4*4)\n",
    "        t = self.fc1(t)\n",
    "        t = F.relu(t) # activation_funcion='relu' in tf.keras\n",
    "        \n",
    "        # (5) hidden linear layer\n",
    "        t = self.fc2(t)\n",
    "        t = F.relu(t)\n",
    "        \n",
    "        # (6) output layer\n",
    "        t = self.out(t)\n",
    "        t = F.softmax(t, dim=1) # first index is batch\n",
    "        return t"
   ]
  },
  {
   "cell_type": "markdown",
   "metadata": {},
   "source": [
    "The `.forward()` method expects an image of shape $[b, c, 28, 28]$ i.e. $b$ is batch size of 28$\\times$28 grayscale images of shape $[c,28,28]$."
   ]
  },
  {
   "cell_type": "code",
   "execution_count": 327,
   "metadata": {},
   "outputs": [
    {
     "data": {
      "text/plain": [
       "torch.Size([7, 10])"
      ]
     },
     "execution_count": 327,
     "metadata": {},
     "output_type": "execute_result"
    }
   ],
   "source": [
    "net = Network(3)\n",
    "t = torch.as_tensor(np.random.random((7,3,28,28))).float() # batch of size 7\n",
    "\n",
    "net.forward(t).shape # 10 label classes for each image"
   ]
  },
  {
   "cell_type": "code",
   "execution_count": 329,
   "metadata": {},
   "outputs": [
    {
     "data": {
      "text/plain": [
       "tensor(True)"
      ]
     },
     "execution_count": 329,
     "metadata": {},
     "output_type": "execute_result"
    }
   ],
   "source": [
    "(net(t) == net.forward(t)).all()"
   ]
  },
  {
   "cell_type": "code",
   "execution_count": 332,
   "metadata": {},
   "outputs": [
    {
     "name": "stdout",
     "output_type": "stream",
     "text": [
      "torch.Size([6, 3, 5, 5])\n"
     ]
    },
    {
     "data": {
      "text/plain": [
       "tensor([[[ 0.0832, -0.1029,  0.0703,  0.0292,  0.0262],\n",
       "         [-0.0237, -0.0543, -0.0521, -0.0272, -0.0309],\n",
       "         [ 0.0332,  0.0453, -0.0441, -0.1148, -0.0725],\n",
       "         [-0.0449, -0.0101,  0.0459, -0.0727, -0.0317],\n",
       "         [-0.0826, -0.1063,  0.0104, -0.0092, -0.0855]],\n",
       "\n",
       "        [[-0.0777, -0.0996,  0.1076,  0.0575, -0.0444],\n",
       "         [ 0.0145,  0.0996, -0.0795, -0.0624, -0.0244],\n",
       "         [-0.0365,  0.1009,  0.1087,  0.0875,  0.1027],\n",
       "         [-0.0857, -0.0225, -0.0068,  0.0377, -0.0547],\n",
       "         [-0.0984,  0.0819,  0.0161, -0.0403, -0.1129]],\n",
       "\n",
       "        [[-0.0042, -0.0070,  0.0478,  0.0235,  0.1039],\n",
       "         [ 0.0199,  0.0314,  0.0427,  0.0709,  0.0157],\n",
       "         [-0.0739,  0.0840,  0.0589,  0.0240,  0.1063],\n",
       "         [ 0.0590, -0.0079, -0.0406,  0.0153,  0.0723],\n",
       "         [-0.0204,  0.0012, -0.0969, -0.0526,  0.0382]]], requires_grad=True)"
      ]
     },
     "execution_count": 332,
     "metadata": {},
     "output_type": "execute_result"
    }
   ],
   "source": [
    "# the 6 filters in the first conv layer are 3x5x5 matrices in this case, threefold\n",
    "print(net.conv1.weight.shape)\n",
    "net.conv1.weight[0] # weights of the first filter"
   ]
  },
  {
   "cell_type": "markdown",
   "metadata": {},
   "source": [
    "### Tensor shape transformations during forward pass"
   ]
  },
  {
   "cell_type": "markdown",
   "metadata": {},
   "source": [
    "Here we inspect the transformation of a tensor $t$ as it is passed end-to-end into the network."
   ]
  },
  {
   "cell_type": "code",
   "execution_count": 383,
   "metadata": {},
   "outputs": [],
   "source": [
    "net = Network(3)\n",
    "t = torch.as_tensor(np.random.random((7,3,28,28))).float() # batch of size 7 rgb 28x28 images"
   ]
  },
  {
   "cell_type": "code",
   "execution_count": 384,
   "metadata": {},
   "outputs": [
    {
     "data": {
      "text/plain": [
       "torch.Size([7, 3, 28, 28])"
      ]
     },
     "execution_count": 384,
     "metadata": {},
     "output_type": "execute_result"
    }
   ],
   "source": [
    "t.shape # input layer"
   ]
  },
  {
   "cell_type": "code",
   "execution_count": 385,
   "metadata": {},
   "outputs": [
    {
     "data": {
      "text/plain": [
       "torch.Size([7, 6, 24, 24])"
      ]
     },
     "execution_count": 385,
     "metadata": {},
     "output_type": "execute_result"
    }
   ],
   "source": [
    "t = net.conv1(t)\n",
    "t.shape"
   ]
  },
  {
   "cell_type": "code",
   "execution_count": 386,
   "metadata": {},
   "outputs": [
    {
     "data": {
      "text/plain": [
       "torch.Size([7, 6, 24, 24])"
      ]
     },
     "execution_count": 386,
     "metadata": {},
     "output_type": "execute_result"
    }
   ],
   "source": [
    "t = F.relu(t) # applied element-wise\n",
    "t.shape"
   ]
  },
  {
   "cell_type": "code",
   "execution_count": 387,
   "metadata": {},
   "outputs": [
    {
     "data": {
      "text/plain": [
       "tensor([[[2, 0]],\n",
       "\n",
       "        [[1, 5]],\n",
       "\n",
       "        [[0, 6]]])"
      ]
     },
     "execution_count": 387,
     "metadata": {},
     "output_type": "execute_result"
    }
   ],
   "source": [
    "F.relu(torch.tensor([[[2,-3]], [[1,5]], [[-1,6]]]))"
   ]
  },
  {
   "cell_type": "code",
   "execution_count": 388,
   "metadata": {
    "scrolled": true
   },
   "outputs": [
    {
     "data": {
      "text/plain": [
       "torch.Size([7, 6, 12, 12])"
      ]
     },
     "execution_count": 388,
     "metadata": {},
     "output_type": "execute_result"
    }
   ],
   "source": [
    "t = F.max_pool2d(t, kernel_size=2, stride=2)\n",
    "t.shape"
   ]
  },
  {
   "cell_type": "markdown",
   "metadata": {},
   "source": [
    "Let's demonstrate how `F.max_pool2d` works."
   ]
  },
  {
   "cell_type": "code",
   "execution_count": 389,
   "metadata": {},
   "outputs": [],
   "source": [
    "x = torch.tensor([[[[1,2],[3,4]],[[1,2],[-9,0]]]]).float()"
   ]
  },
  {
   "cell_type": "code",
   "execution_count": 390,
   "metadata": {},
   "outputs": [
    {
     "data": {
      "text/plain": [
       "tensor([[[[ 1.,  2.],\n",
       "          [ 3.,  4.]],\n",
       "\n",
       "         [[ 1.,  2.],\n",
       "          [-9.,  0.]]]])"
      ]
     },
     "execution_count": 390,
     "metadata": {},
     "output_type": "execute_result"
    }
   ],
   "source": [
    "x"
   ]
  },
  {
   "cell_type": "code",
   "execution_count": 391,
   "metadata": {},
   "outputs": [
    {
     "data": {
      "text/plain": [
       "torch.Size([1, 2, 2, 2])"
      ]
     },
     "execution_count": 391,
     "metadata": {},
     "output_type": "execute_result"
    }
   ],
   "source": [
    "x.shape"
   ]
  },
  {
   "cell_type": "code",
   "execution_count": 392,
   "metadata": {},
   "outputs": [
    {
     "data": {
      "text/plain": [
       "tensor([[[[4.]],\n",
       "\n",
       "         [[2.]]]])"
      ]
     },
     "execution_count": 392,
     "metadata": {},
     "output_type": "execute_result"
    }
   ],
   "source": [
    "F.max_pool2d(x, kernel_size=2, stride=2)"
   ]
  },
  {
   "cell_type": "code",
   "execution_count": 393,
   "metadata": {},
   "outputs": [
    {
     "data": {
      "text/plain": [
       "torch.Size([1, 2, 1, 1])"
      ]
     },
     "execution_count": 393,
     "metadata": {},
     "output_type": "execute_result"
    }
   ],
   "source": [
    "F.max_pool2d(x, kernel_size=2, stride=2).shape"
   ]
  },
  {
   "cell_type": "code",
   "execution_count": 394,
   "metadata": {},
   "outputs": [
    {
     "data": {
      "text/plain": [
       "torch.Size([7, 12, 8, 8])"
      ]
     },
     "execution_count": 394,
     "metadata": {},
     "output_type": "execute_result"
    }
   ],
   "source": [
    "t = net.conv2(t)\n",
    "t.shape"
   ]
  },
  {
   "cell_type": "code",
   "execution_count": 395,
   "metadata": {
    "scrolled": true
   },
   "outputs": [
    {
     "data": {
      "text/plain": [
       "torch.Size([7, 12, 4, 4])"
      ]
     },
     "execution_count": 395,
     "metadata": {},
     "output_type": "execute_result"
    }
   ],
   "source": [
    "t = F.max_pool2d(t, kernel_size=2, stride=2)\n",
    "t.shape"
   ]
  },
  {
   "cell_type": "code",
   "execution_count": 396,
   "metadata": {},
   "outputs": [
    {
     "data": {
      "text/plain": [
       "torch.Size([7, 192])"
      ]
     },
     "execution_count": 396,
     "metadata": {},
     "output_type": "execute_result"
    }
   ],
   "source": [
    "t = t.reshape(-1, 12*4*4)\n",
    "t.shape"
   ]
  },
  {
   "cell_type": "code",
   "execution_count": 397,
   "metadata": {},
   "outputs": [
    {
     "data": {
      "text/plain": [
       "torch.Size([7, 120])"
      ]
     },
     "execution_count": 397,
     "metadata": {},
     "output_type": "execute_result"
    }
   ],
   "source": [
    "t = net.fc1(t)\n",
    "t.shape"
   ]
  },
  {
   "cell_type": "code",
   "execution_count": 398,
   "metadata": {},
   "outputs": [
    {
     "data": {
      "text/plain": [
       "torch.Size([7, 60])"
      ]
     },
     "execution_count": 398,
     "metadata": {},
     "output_type": "execute_result"
    }
   ],
   "source": [
    "t = net.fc2(t)\n",
    "t.shape"
   ]
  },
  {
   "cell_type": "code",
   "execution_count": 399,
   "metadata": {},
   "outputs": [],
   "source": [
    "t = net.out(t)\n",
    "t = F.softmax(t, dim=1)"
   ]
  },
  {
   "cell_type": "code",
   "execution_count": 400,
   "metadata": {},
   "outputs": [
    {
     "data": {
      "text/plain": [
       "torch.Size([7, 10])"
      ]
     },
     "execution_count": 400,
     "metadata": {},
     "output_type": "execute_result"
    }
   ],
   "source": [
    "t.shape"
   ]
  },
  {
   "cell_type": "markdown",
   "metadata": {},
   "source": [
    "#### Convolutional layer output formula\n",
    "$$ O = \\dfrac{f-n+2p}{s}+1$$\n",
    "\n",
    "where $f$ is the image size, $n$ is the size of the filter, $p$ is the size of zero padding. To see this, note that the formula is equal to $\\dfrac{f-n+s+2p}{s}$ which can be interpreted as ignoring the last stride which covers $n$ pixels, and replacing that with $s$ pixels, dividing everything by $s$ we get the total number of strides, i.e. the size of the resulting image.\n",
    "$$$$\n",
    "\n",
    "__Example__. $f = 28$, $n = 5$, $p = 0$ and $s = 1$ in the first convolutional layer, so that $O = 24$."
   ]
  },
  {
   "cell_type": "markdown",
   "metadata": {},
   "source": [
    "### Appendix: Basic Theory of Convolutional Neural Networks\n",
    "\n",
    "Deep Lizard series on CNN:\n",
    "\n",
    "https://deeplizard.com/learn/video/YRhxdVk_sIs\n",
    "\n",
    "https://deeplizard.com/learn/video/cNBBNAxC8l4\n",
    "\n",
    "https://deeplizard.com/learn/video/qSTv_m-KFk0\n",
    "\n",
    "https://deeplizard.com/learn/video/ZjM_XQa5s6s\n",
    "\n",
    "https://deeplizard.com/learn/video/gmBfb6LNnZs\n",
    "\n",
    "\n",
    "\n",
    "F. Chollet's blog: __How convolutional neural networks see the world__\n",
    "\n",
    "https://blog.keras.io/how-convolutional-neural-networks-see-the-world.html\n",
    "\n"
   ]
  },
  {
   "cell_type": "code",
   "execution_count": null,
   "metadata": {},
   "outputs": [],
   "source": []
  }
 ],
 "metadata": {
  "kernelspec": {
   "display_name": "Python 3",
   "language": "python",
   "name": "python3"
  },
  "language_info": {
   "codemirror_mode": {
    "name": "ipython",
    "version": 3
   },
   "file_extension": ".py",
   "mimetype": "text/x-python",
   "name": "python",
   "nbconvert_exporter": "python",
   "pygments_lexer": "ipython3",
   "version": "3.7.4"
  },
  "toc": {
   "base_numbering": 1,
   "nav_menu": {},
   "number_sections": true,
   "sideBar": true,
   "skip_h1_title": false,
   "title_cell": "Table of Contents",
   "title_sidebar": "Contents",
   "toc_cell": false,
   "toc_position": {
    "height": "calc(100% - 180px)",
    "left": "10px",
    "top": "150px",
    "width": "165px"
   },
   "toc_section_display": true,
   "toc_window_display": true
  }
 },
 "nbformat": 4,
 "nbformat_minor": 2
}
