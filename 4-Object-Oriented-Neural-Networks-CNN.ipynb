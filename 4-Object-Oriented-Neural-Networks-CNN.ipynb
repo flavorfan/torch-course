{
 "cells": [
  {
   "cell_type": "markdown",
   "metadata": {},
   "source": [
    "__ML Pipeline__: Prepare data -> __build model__ -> train model -> analyze model's results"
   ]
  },
  {
   "cell_type": "markdown",
   "metadata": {},
   "source": [
    "### OOP review"
   ]
  },
  {
   "cell_type": "markdown",
   "metadata": {},
   "source": [
    "When we’re writing programs or building software, there are two key components, __code__ and __data__. With object oriented programming, we orient our program design and structure around objects.\n",
    "\n",
    "Objects are defined in code using classes. A class defines the object's specification or spec, which specifies what data and code each object of the class should have. When we create an object of a class, we call the object an instance of the class, and all instances of a given class have two core components:\n",
    "\n",
    "* Methods (code)\n",
    "* Attributes (data)\n",
    "\n",
    "The methods represent the code, while the attributes represent the data, and so the methods and attributes are defined by the class.\n",
    "\n",
    "In a given program, many objects, a.k.a instances of a given class, can exist simultaneously, and all of the instances will have the same available attributes and the same available methods. They are uniform from this perspective. The difference between objects of the same class is the values contained within the object for each attribute. Each object has its own attribute values. These values determine the internal state of the object. The code and data of each object is said to be encapsulated within the object."
   ]
  },
  {
   "cell_type": "markdown",
   "metadata": {},
   "source": [
    "### `nn.Module`"
   ]
  },
  {
   "cell_type": "markdown",
   "metadata": {},
   "source": [
    "As we know, deep neural networks are built using multiple layers. This is what makes the network deep. Each layer in a neural network has two primary components:\n",
    "\n",
    "* A transformation (code)\n",
    "* A collection of weights (data)\n",
    "\n",
    "Within the `nn` package, there is a class called `Module`, and it is the __base class__ for all of neural network modules which includes layers. This means that all of the layers in PyTorch extend the `nn.Module` class and inherit all of PyTorch’s built-in functionality within the `nn.Module` class. In OOP this concept is known as __inheritance__.\n",
    "\n",
    "\n",
    "#### `forward()` method\n",
    "When we pass a tensor to our network as input, the __tensor flows__ forward though each layer transformation until the tensor reaches the output layer. This process of a tensor flowing forward though the network is known as a __forward pass__.\n",
    "\n",
    "Each layer has its own transformation (code) and the tensor passes forward through each layer. The composition of all the individual layer forward passes defines the overall forward pass transformation for the network. The goal of the overall transformation is to transform or map the input to the correct prediction output class, and during the training process, the layer weights (data) are updated in such a way that cause the mapping to adjust to make the output closer to the correct prediction. This is achieved efficiently by __backpropagation__.\n",
    "\n",
    "What this all means is that, every PyTorch `nn.Module` has a `forward()` method, and so when we are building layers and networks, we must provide an implementation of the `forward()` method. The forward method is the actual transformation.\n",
    "\n",
    "\n",
    "#### PyTorch’s `nn.functional` package\n",
    "\n",
    "The `nn.functional` package contains methods that subclasses of `nn.Module` use for implementing their `forward()` functions. One reason for this is that during backpropagation, the network must perform a __symbolic differentiation__ of the operations involved in the layers to calculate the gradient of the loss with respect to the weights.\n",
    "\n"
   ]
  },
  {
   "cell_type": "markdown",
   "metadata": {},
   "source": [
    "### Building a neural network in PyTorch\n",
    "\n",
    "To build a neural net in PyTorch one must extend the nn.Module base class. This is done in two steps:\n",
    "2. In the class constructor, define the network’s layers as class attributes using pre-built layers from `torch.nn`.\n",
    "3. Use the network’s layer attributes as well as operations from the `nn.functional` API to implement the `forward()`.\n",
    "\n"
   ]
  },
  {
   "cell_type": "code",
   "execution_count": 1,
   "metadata": {},
   "outputs": [],
   "source": [
    "import torch.nn as nn\n",
    "\n",
    "# a trivial neural net (zero layers)\n",
    "class Network(nn.Module): \n",
    "    def __init__(self):\n",
    "        super().__init__()\n",
    "        self.layer = None\n",
    "\n",
    "    def forward(self, t):\n",
    "        t = self.layer(t)\n",
    "        return t"
   ]
  },
  {
   "cell_type": "code",
   "execution_count": 2,
   "metadata": {},
   "outputs": [],
   "source": [
    "# a convolutional neural net\n",
    "class Network(nn.Module):\n",
    "    def __init__(self):\n",
    "        super().__init__()\n",
    "        # convolutional layers\n",
    "        self.conv1 = nn.Conv2d(in_channels=1, out_channels=6,  kernel_size=5)\n",
    "        self.conv2 = nn.Conv2d(in_channels=6, out_channels=12, kernel_size=5)\n",
    "        \n",
    "        # dense layers / fully connected layers with bias\n",
    "        self.fc1 = nn.Linear(in_features=12*4*4, out_features=120) # the 4*4 is the size of the image \n",
    "        self.fc2 = nn.Linear(in_features=120, out_features=60)     # after two convolutions and maxpoolings\n",
    "        self.out = nn.Linear(in_features=60,  out_features=10)  \n",
    "        \n",
    "    def forward(self, t):\n",
    "        # implement the forward pass\n",
    "        return t"
   ]
  },
  {
   "cell_type": "markdown",
   "metadata": {},
   "source": [
    "The above neural net has three hyperparameters that need to be manually specified:\n",
    "* `kernel_size.`  size of each convolutional filter\n",
    "* `out_channels` number of filters in the convolutional layer \n",
    "* `out_features` size of output tensor, i.e. the number of neurons in the dense layer\n",
    "\n",
    "Having `out_features=10` on the final output layer is a data dependent hyperparameter, i.e. fixed due to the nature of the problem.\n",
    "\n"
   ]
  },
  {
   "cell_type": "markdown",
   "metadata": {},
   "source": [
    "### Exploring weights inside layers\n",
    "\n",
    "Note that weights are hidden inside each layer object. \n"
   ]
  },
  {
   "cell_type": "code",
   "execution_count": 3,
   "metadata": {
    "scrolled": true
   },
   "outputs": [
    {
     "data": {
      "text/plain": [
       "Network(\n",
       "  (conv1): Conv2d(1, 6, kernel_size=(5, 5), stride=(1, 1))\n",
       "  (conv2): Conv2d(6, 12, kernel_size=(5, 5), stride=(1, 1))\n",
       "  (fc1): Linear(in_features=192, out_features=120, bias=True)\n",
       "  (fc2): Linear(in_features=120, out_features=60, bias=True)\n",
       "  (out): Linear(in_features=60, out_features=10, bias=True)\n",
       ")"
      ]
     },
     "execution_count": 3,
     "metadata": {},
     "output_type": "execute_result"
    }
   ],
   "source": [
    "network = Network()\n",
    "network # __repr__ is inherited from nn.Module, compiles all __repr__ of each layer"
   ]
  },
  {
   "cell_type": "code",
   "execution_count": 4,
   "metadata": {},
   "outputs": [
    {
     "data": {
      "text/plain": [
       "Conv2d(1, 6, kernel_size=(5, 5), stride=(1, 1))"
      ]
     },
     "execution_count": 4,
     "metadata": {},
     "output_type": "execute_result"
    }
   ],
   "source": [
    "network.conv1"
   ]
  },
  {
   "cell_type": "code",
   "execution_count": 5,
   "metadata": {
    "scrolled": true
   },
   "outputs": [
    {
     "data": {
      "text/plain": [
       "Linear(in_features=192, out_features=120, bias=True)"
      ]
     },
     "execution_count": 5,
     "metadata": {},
     "output_type": "execute_result"
    }
   ],
   "source": [
    "network.fc1"
   ]
  },
  {
   "cell_type": "code",
   "execution_count": 6,
   "metadata": {},
   "outputs": [
    {
     "data": {
      "text/plain": [
       "Linear(in_features=60, out_features=10, bias=True)"
      ]
     },
     "execution_count": 6,
     "metadata": {},
     "output_type": "execute_result"
    }
   ],
   "source": [
    "network.out"
   ]
  },
  {
   "cell_type": "code",
   "execution_count": 7,
   "metadata": {
    "scrolled": true
   },
   "outputs": [
    {
     "data": {
      "text/plain": [
       "Parameter containing:\n",
       "tensor([[[[-1.1611e-01, -1.5837e-01,  5.9713e-02,  5.0373e-02,  2.4218e-03],\n",
       "          [ 1.6884e-01,  1.7328e-01, -5.0848e-02,  1.7216e-01, -1.5699e-01],\n",
       "          [-9.5780e-02,  1.7713e-01, -7.9258e-02, -1.7948e-01, -1.6083e-01],\n",
       "          [-1.4159e-01, -1.3905e-01,  1.8444e-01, -1.2275e-01, -1.0486e-01],\n",
       "          [-7.9213e-02,  4.6207e-02,  2.6757e-02, -1.9239e-01, -1.1367e-01]]],\n",
       "\n",
       "\n",
       "        [[[-6.1874e-02, -8.2872e-02, -1.7283e-01,  1.2009e-01, -4.4383e-02],\n",
       "          [ 1.5228e-02, -2.6932e-02, -7.6451e-02,  1.2435e-01,  4.6987e-02],\n",
       "          [ 1.6454e-01,  1.9002e-01,  1.3217e-01, -4.2466e-02,  5.4662e-03],\n",
       "          [ 1.5702e-02, -1.7277e-01,  1.9578e-01,  1.1913e-01, -3.7617e-02],\n",
       "          [-1.6673e-02,  3.3054e-02,  6.9797e-03,  5.6465e-02, -6.9034e-02]]],\n",
       "\n",
       "\n",
       "        [[[-3.4195e-03,  7.5839e-02, -6.6970e-02,  1.8155e-01, -1.7812e-01],\n",
       "          [-6.6772e-02,  9.3881e-02, -1.5532e-01,  1.4589e-01, -2.8781e-02],\n",
       "          [-9.2849e-02,  6.8539e-02,  1.7832e-01,  1.9696e-01,  1.2177e-01],\n",
       "          [-4.4363e-02,  1.6903e-01,  1.1958e-01,  1.8015e-01,  6.1734e-02],\n",
       "          [-1.2956e-01,  1.7973e-01,  7.8351e-02,  1.9224e-04, -1.9771e-01]]],\n",
       "\n",
       "\n",
       "        [[[ 9.9602e-03, -1.8456e-01,  1.9361e-01,  1.7796e-01,  1.4004e-01],\n",
       "          [-1.8862e-01, -6.5826e-02,  6.9319e-02, -1.8013e-01, -1.7493e-01],\n",
       "          [-5.8626e-02, -1.2686e-01, -7.5800e-02, -1.8671e-02, -1.1106e-01],\n",
       "          [-1.6911e-01, -1.5621e-01, -1.6500e-01,  1.6290e-02, -1.9329e-01],\n",
       "          [-1.2853e-01,  1.9976e-01,  6.8760e-02,  1.8861e-01, -4.8972e-02]]],\n",
       "\n",
       "\n",
       "        [[[ 7.9709e-02, -8.1818e-02, -2.0551e-02, -1.2538e-01, -8.4790e-02],\n",
       "          [-1.0582e-01, -3.0319e-02, -2.3398e-02, -6.4277e-02, -1.3996e-01],\n",
       "          [ 1.2906e-01,  1.5001e-01,  6.7556e-02, -1.9456e-02, -1.2903e-01],\n",
       "          [ 6.3127e-02,  1.1254e-01,  8.5830e-02, -1.6139e-01, -8.8041e-02],\n",
       "          [-1.8442e-01, -8.1122e-02, -8.8768e-02, -1.5491e-01, -9.8424e-04]]],\n",
       "\n",
       "\n",
       "        [[[-2.8973e-02, -1.1739e-02,  1.1955e-01, -1.4672e-01,  4.5672e-02],\n",
       "          [-1.9974e-01, -1.4925e-01,  1.2752e-01, -1.4620e-01,  1.5008e-01],\n",
       "          [ 1.7832e-01,  3.7571e-02, -1.2417e-01, -1.5161e-01,  8.2062e-02],\n",
       "          [ 1.9411e-01, -1.9393e-01,  2.4322e-02,  1.3022e-01,  2.8251e-03],\n",
       "          [-1.3138e-01,  1.6555e-01,  6.8195e-02, -1.2419e-01, -1.2157e-01]]]],\n",
       "       requires_grad=True)"
      ]
     },
     "execution_count": 7,
     "metadata": {},
     "output_type": "execute_result"
    }
   ],
   "source": [
    "network.conv1.weight # weights of the convolutional layer; these are actually the six  5x5 convolutional filters."
   ]
  },
  {
   "cell_type": "code",
   "execution_count": 8,
   "metadata": {},
   "outputs": [
    {
     "data": {
      "text/plain": [
       "torch.Size([6, 1, 5, 5])"
      ]
     },
     "execution_count": 8,
     "metadata": {},
     "output_type": "execute_result"
    }
   ],
   "source": [
    "network.conv1.weight.shape"
   ]
  },
  {
   "cell_type": "code",
   "execution_count": 9,
   "metadata": {},
   "outputs": [
    {
     "data": {
      "image/png": "[encoded data removed]",
      "text/plain": [
       "<Figure size 800x800 with 6 Axes>"
      ]
     },
     "metadata": {},
     "output_type": "display_data"
    }
   ],
   "source": [
    "# filters as images (untrained, randomized)\n",
    "import matplotlib.pyplot as plt \n",
    "\n",
    "plt.figure(figsize=(8,8))\n",
    "for i in range(1,7):\n",
    "    plt.subplot(2, 3, i)\n",
    "    plt.imshow(network.conv1.weight[0].squeeze().detach().numpy(), cmap='gray')\n",
    "    plt.title(f'Filter {i-1}')"
   ]
  },
  {
   "cell_type": "code",
   "execution_count": 10,
   "metadata": {},
   "outputs": [
    {
     "data": {
      "text/plain": [
       "torch.Size([6, 1, 5, 5])"
      ]
     },
     "execution_count": 10,
     "metadata": {},
     "output_type": "execute_result"
    }
   ],
   "source": [
    "network.conv1.weight.shape"
   ]
  },
  {
   "cell_type": "code",
   "execution_count": 11,
   "metadata": {},
   "outputs": [
    {
     "data": {
      "text/plain": [
       "torch.Size([12, 6, 5, 5])"
      ]
     },
     "execution_count": 11,
     "metadata": {},
     "output_type": "execute_result"
    }
   ],
   "source": [
    "network.conv2.weight.shape"
   ]
  },
  {
   "cell_type": "markdown",
   "metadata": {},
   "source": [
    "Here the twelve 5$\\times$5 stacked filters convolve above six stacked input images which are the output of the first convolution. "
   ]
  },
  {
   "cell_type": "code",
   "execution_count": 12,
   "metadata": {},
   "outputs": [
    {
     "data": {
      "text/plain": [
       "torch.Size([120, 192])"
      ]
     },
     "execution_count": 12,
     "metadata": {},
     "output_type": "execute_result"
    }
   ],
   "source": [
    "network.fc1.weight.shape"
   ]
  },
  {
   "cell_type": "code",
   "execution_count": 13,
   "metadata": {},
   "outputs": [
    {
     "data": {
      "text/plain": [
       "(192,)"
      ]
     },
     "execution_count": 13,
     "metadata": {},
     "output_type": "execute_result"
    }
   ],
   "source": [
    "import torch\n",
    "import numpy as np\n",
    "x = np.random.random(192)\n",
    "x.shape"
   ]
  },
  {
   "cell_type": "code",
   "execution_count": 14,
   "metadata": {},
   "outputs": [
    {
     "data": {
      "text/plain": [
       "torch.Size([120])"
      ]
     },
     "execution_count": 14,
     "metadata": {},
     "output_type": "execute_result"
    }
   ],
   "source": [
    "network.fc1.weight.matmul(torch.as_tensor(x).float()).shape"
   ]
  },
  {
   "cell_type": "markdown",
   "metadata": {},
   "source": [
    "The operation `A.matmul(x)` infers due to incompatibility in shape that it must perform $x A^T$ instead of the default $Ax$."
   ]
  },
  {
   "cell_type": "code",
   "execution_count": 5,
   "metadata": {},
   "outputs": [],
   "source": [
    "A = np.array([[1, 2],\n",
    "              [3, 4],\n",
    "              [0, 0]])\n",
    "\n",
    "x = np.array([1, 1])"
   ]
  },
  {
   "cell_type": "code",
   "execution_count": 6,
   "metadata": {},
   "outputs": [
    {
     "data": {
      "text/plain": [
       "tensor([3, 7, 0])"
      ]
     },
     "execution_count": 6,
     "metadata": {},
     "output_type": "execute_result"
    }
   ],
   "source": [
    "torch.tensor(A).matmul(torch.tensor(x))"
   ]
  },
  {
   "cell_type": "code",
   "execution_count": 7,
   "metadata": {},
   "outputs": [
    {
     "data": {
      "text/plain": [
       "array([3, 7, 0])"
      ]
     },
     "execution_count": 7,
     "metadata": {},
     "output_type": "execute_result"
    }
   ],
   "source": [
    "np.matmul(x, A.T)"
   ]
  },
  {
   "cell_type": "code",
   "execution_count": 59,
   "metadata": {
    "scrolled": true
   },
   "outputs": [
    {
     "name": "stdout",
     "output_type": "stream",
     "text": [
      "conv1.weight \t torch.Size([6, 1, 5, 5])\n",
      "conv1.bias \t torch.Size([6])\n",
      "conv2.weight \t torch.Size([12, 6, 5, 5])\n",
      "conv2.bias \t torch.Size([12])\n",
      "fc1.weight \t torch.Size([120, 192])\n",
      "fc1.bias \t torch.Size([120])\n",
      "fc2.weight \t torch.Size([60, 120])\n",
      "fc2.bias \t torch.Size([60])\n",
      "out.weight \t torch.Size([10, 60])\n",
      "out.bias \t torch.Size([10])\n"
     ]
    }
   ],
   "source": [
    "for name, weight in network.named_parameters():\n",
    "    print(name, '\\t', weight.shape)"
   ]
  },
  {
   "cell_type": "code",
   "execution_count": 61,
   "metadata": {
    "scrolled": true
   },
   "outputs": [
    {
     "data": {
      "text/plain": [
       "Parameter containing:\n",
       "tensor([[ 0.0314, -0.0372, -0.0415,  ..., -0.0323,  0.0087,  0.0680],\n",
       "        [ 0.0300,  0.0337, -0.0038,  ...,  0.0493,  0.0219, -0.0557],\n",
       "        [ 0.0176,  0.0118,  0.0431,  ...,  0.0032,  0.0044, -0.0332],\n",
       "        ...,\n",
       "        [-0.0340, -0.0482, -0.0081,  ...,  0.0624, -0.0540, -0.0497],\n",
       "        [ 0.0485, -0.0141,  0.0191,  ...,  0.0559, -0.0340, -0.0593],\n",
       "        [-0.0067, -0.0101, -0.0276,  ...,  0.0545, -0.0584,  0.0594]],\n",
       "       requires_grad=True)"
      ]
     },
     "execution_count": 61,
     "metadata": {},
     "output_type": "execute_result"
    }
   ],
   "source": [
    "network.fc1.weight # 192 weights for each of the 120 output neurons +1 for bias, the bias tensor of size 120."
   ]
  },
  {
   "cell_type": "markdown",
   "metadata": {},
   "source": [
    "For the convolutional layer, we have one scalar value for each filter.  "
   ]
  },
  {
   "cell_type": "markdown",
   "metadata": {},
   "source": [
    "### Forward method implementation"
   ]
  },
  {
   "cell_type": "markdown",
   "metadata": {},
   "source": [
    "Forward pass describes how an input tensor is processed as it flows across the layers.\n",
    "\n",
    "__tensor flow__: \n",
    "tensor -> input layer -> hiden layers -> output layer -> tensor"
   ]
  },
  {
   "cell_type": "code",
   "execution_count": 325,
   "metadata": {
    "deletable": false,
    "editable": false
   },
   "outputs": [],
   "source": [
    "import torch\n",
    "import torch.nn as nn\n",
    "import torch.nn.functional as F\n",
    "\n",
    "class Network(nn.Module):\n",
    "    def __init__(self, channels=1): # default grayscale\n",
    "        super().__init__()\n",
    "        self.conv1 = nn.Conv2d(in_channels=channels, out_channels=6, kernel_size=5) \n",
    "        self.conv2 = nn.Conv2d(in_channels=6, out_channels=12, kernel_size=5)\n",
    "        \n",
    "        self.fc1 = nn.Linear(in_features=12*4*4, out_features=120) # ((28-5+1)/2 -5 +1)/2 = 4\n",
    "        self.fc2 = nn.Linear(in_features=120, out_features=60)\n",
    "        self.out = nn.Linear(in_features=60, out_features=10)\n",
    "        \n",
    "    def forward(self, t):\n",
    "        # (1) input layer\n",
    "        t = t\n",
    "        \n",
    "        # (2) hidden conv layer\n",
    "        t = self.conv1(t)\n",
    "        t = F.relu(t) # activation_function='relu' in tf.keras      \n",
    "        t = F.max_pool2d(t, kernel_size=2, stride=2)\n",
    "        \n",
    "        # (3) hidden conv layer\n",
    "        t = self.conv2(t)\n",
    "        t = F.relu(t)\n",
    "        t = F.max_pool2d(t, kernel_size=2, stride=2)\n",
    "\n",
    "        # (4) hidden linear layer\n",
    "        t = t.reshape(-1, 12*4*4)\n",
    "        t = self.fc1(t)\n",
    "        t = F.relu(t) # activation_funcion='relu' in tf.keras\n",
    "        \n",
    "        # (5) hidden linear layer\n",
    "        t = self.fc2(t)\n",
    "        t = F.relu(t)\n",
    "        \n",
    "        # (6) output layer\n",
    "        t = self.out(t)\n",
    "        t = F.softmax(t, dim=1) # first index is batch\n",
    "        return t"
   ]
  },
  {
   "cell_type": "markdown",
   "metadata": {},
   "source": [
    "The `.forward()` method expects an image of shape $[b, c, 28, 28]$ i.e. $b$ is batch size of 28$\\times$28 grayscale images of shape $[c,28,28]$."
   ]
  },
  {
   "cell_type": "code",
   "execution_count": 327,
   "metadata": {},
   "outputs": [
    {
     "data": {
      "text/plain": [
       "torch.Size([7, 10])"
      ]
     },
     "execution_count": 327,
     "metadata": {},
     "output_type": "execute_result"
    }
   ],
   "source": [
    "net = Network(3)\n",
    "t = torch.as_tensor(np.random.random((7,3,28,28))).float() # batch of size 7\n",
    "\n",
    "net.forward(t).shape # 10 label classes for each image"
   ]
  },
  {
   "cell_type": "code",
   "execution_count": 329,
   "metadata": {},
   "outputs": [
    {
     "data": {
      "text/plain": [
       "tensor(True)"
      ]
     },
     "execution_count": 329,
     "metadata": {},
     "output_type": "execute_result"
    }
   ],
   "source": [
    "(net(t) == net.forward(t)).all()"
   ]
  },
  {
   "cell_type": "code",
   "execution_count": 332,
   "metadata": {},
   "outputs": [
    {
     "name": "stdout",
     "output_type": "stream",
     "text": [
      "torch.Size([6, 3, 5, 5])\n"
     ]
    },
    {
     "data": {
      "text/plain": [
       "tensor([[[ 0.0832, -0.1029,  0.0703,  0.0292,  0.0262],\n",
       "         [-0.0237, -0.0543, -0.0521, -0.0272, -0.0309],\n",
       "         [ 0.0332,  0.0453, -0.0441, -0.1148, -0.0725],\n",
       "         [-0.0449, -0.0101,  0.0459, -0.0727, -0.0317],\n",
       "         [-0.0826, -0.1063,  0.0104, -0.0092, -0.0855]],\n",
       "\n",
       "        [[-0.0777, -0.0996,  0.1076,  0.0575, -0.0444],\n",
       "         [ 0.0145,  0.0996, -0.0795, -0.0624, -0.0244],\n",
       "         [-0.0365,  0.1009,  0.1087,  0.0875,  0.1027],\n",
       "         [-0.0857, -0.0225, -0.0068,  0.0377, -0.0547],\n",
       "         [-0.0984,  0.0819,  0.0161, -0.0403, -0.1129]],\n",
       "\n",
       "        [[-0.0042, -0.0070,  0.0478,  0.0235,  0.1039],\n",
       "         [ 0.0199,  0.0314,  0.0427,  0.0709,  0.0157],\n",
       "         [-0.0739,  0.0840,  0.0589,  0.0240,  0.1063],\n",
       "         [ 0.0590, -0.0079, -0.0406,  0.0153,  0.0723],\n",
       "         [-0.0204,  0.0012, -0.0969, -0.0526,  0.0382]]], requires_grad=True)"
      ]
     },
     "execution_count": 332,
     "metadata": {},
     "output_type": "execute_result"
    }
   ],
   "source": [
    "# the 6 filters in the first conv layer are 3x5x5 matrices in this case, threefold\n",
    "print(net.conv1.weight.shape)\n",
    "net.conv1.weight[0] # weights of the first filter"
   ]
  },
  {
   "cell_type": "markdown",
   "metadata": {},
   "source": [
    "### Tensor shape transformations during forward pass"
   ]
  },
  {
   "cell_type": "markdown",
   "metadata": {},
   "source": [
    "Here we inspect the transformation of a tensor $t$ as it is passed end-to-end into the network."
   ]
  },
  {
   "cell_type": "code",
   "execution_count": 383,
   "metadata": {},
   "outputs": [],
   "source": [
    "net = Network(3)\n",
    "t = torch.as_tensor(np.random.random((7,3,28,28))).float() # batch of size 7 rgb 28x28 images"
   ]
  },
  {
   "cell_type": "code",
   "execution_count": 384,
   "metadata": {},
   "outputs": [
    {
     "data": {
      "text/plain": [
       "torch.Size([7, 3, 28, 28])"
      ]
     },
     "execution_count": 384,
     "metadata": {},
     "output_type": "execute_result"
    }
   ],
   "source": [
    "t.shape # input layer"
   ]
  },
  {
   "cell_type": "code",
   "execution_count": 385,
   "metadata": {},
   "outputs": [
    {
     "data": {
      "text/plain": [
       "torch.Size([7, 6, 24, 24])"
      ]
     },
     "execution_count": 385,
     "metadata": {},
     "output_type": "execute_result"
    }
   ],
   "source": [
    "t = net.conv1(t)\n",
    "t.shape"
   ]
  },
  {
   "cell_type": "code",
   "execution_count": 386,
   "metadata": {},
   "outputs": [
    {
     "data": {
      "text/plain": [
       "torch.Size([7, 6, 24, 24])"
      ]
     },
     "execution_count": 386,
     "metadata": {},
     "output_type": "execute_result"
    }
   ],
   "source": [
    "t = F.relu(t) # applied element-wise\n",
    "t.shape"
   ]
  },
  {
   "cell_type": "code",
   "execution_count": 387,
   "metadata": {},
   "outputs": [
    {
     "data": {
      "text/plain": [
       "tensor([[[2, 0]],\n",
       "\n",
       "        [[1, 5]],\n",
       "\n",
       "        [[0, 6]]])"
      ]
     },
     "execution_count": 387,
     "metadata": {},
     "output_type": "execute_result"
    }
   ],
   "source": [
    "F.relu(torch.tensor([[[2,-3]], [[1,5]], [[-1,6]]]))"
   ]
  },
  {
   "cell_type": "code",
   "execution_count": 388,
   "metadata": {
    "scrolled": true
   },
   "outputs": [
    {
     "data": {
      "text/plain": [
       "torch.Size([7, 6, 12, 12])"
      ]
     },
     "execution_count": 388,
     "metadata": {},
     "output_type": "execute_result"
    }
   ],
   "source": [
    "t = F.max_pool2d(t, kernel_size=2, stride=2)\n",
    "t.shape"
   ]
  },
  {
   "cell_type": "markdown",
   "metadata": {},
   "source": [
    "Let's demonstrate how `F.max_pool2d` works."
   ]
  },
  {
   "cell_type": "code",
   "execution_count": 389,
   "metadata": {},
   "outputs": [],
   "source": [
    "x = torch.tensor([[[[1,2],[3,4]],[[1,2],[-9,0]]]]).float()"
   ]
  },
  {
   "cell_type": "code",
   "execution_count": 390,
   "metadata": {},
   "outputs": [
    {
     "data": {
      "text/plain": [
       "tensor([[[[ 1.,  2.],\n",
       "          [ 3.,  4.]],\n",
       "\n",
       "         [[ 1.,  2.],\n",
       "          [-9.,  0.]]]])"
      ]
     },
     "execution_count": 390,
     "metadata": {},
     "output_type": "execute_result"
    }
   ],
   "source": [
    "x"
   ]
  },
  {
   "cell_type": "code",
   "execution_count": 391,
   "metadata": {},
   "outputs": [
    {
     "data": {
      "text/plain": [
       "torch.Size([1, 2, 2, 2])"
      ]
     },
     "execution_count": 391,
     "metadata": {},
     "output_type": "execute_result"
    }
   ],
   "source": [
    "x.shape"
   ]
  },
  {
   "cell_type": "code",
   "execution_count": 392,
   "metadata": {},
   "outputs": [
    {
     "data": {
      "text/plain": [
       "tensor([[[[4.]],\n",
       "\n",
       "         [[2.]]]])"
      ]
     },
     "execution_count": 392,
     "metadata": {},
     "output_type": "execute_result"
    }
   ],
   "source": [
    "F.max_pool2d(x, kernel_size=2, stride=2)"
   ]
  },
  {
   "cell_type": "code",
   "execution_count": 393,
   "metadata": {},
   "outputs": [
    {
     "data": {
      "text/plain": [
       "torch.Size([1, 2, 1, 1])"
      ]
     },
     "execution_count": 393,
     "metadata": {},
     "output_type": "execute_result"
    }
   ],
   "source": [
    "F.max_pool2d(x, kernel_size=2, stride=2).shape"
   ]
  },
  {
   "cell_type": "code",
   "execution_count": 394,
   "metadata": {},
   "outputs": [
    {
     "data": {
      "text/plain": [
       "torch.Size([7, 12, 8, 8])"
      ]
     },
     "execution_count": 394,
     "metadata": {},
     "output_type": "execute_result"
    }
   ],
   "source": [
    "t = net.conv2(t)\n",
    "t.shape"
   ]
  },
  {
   "cell_type": "code",
   "execution_count": 395,
   "metadata": {
    "scrolled": true
   },
   "outputs": [
    {
     "data": {
      "text/plain": [
       "torch.Size([7, 12, 4, 4])"
      ]
     },
     "execution_count": 395,
     "metadata": {},
     "output_type": "execute_result"
    }
   ],
   "source": [
    "t = F.max_pool2d(t, kernel_size=2, stride=2)\n",
    "t.shape"
   ]
  },
  {
   "cell_type": "code",
   "execution_count": 396,
   "metadata": {},
   "outputs": [
    {
     "data": {
      "text/plain": [
       "torch.Size([7, 192])"
      ]
     },
     "execution_count": 396,
     "metadata": {},
     "output_type": "execute_result"
    }
   ],
   "source": [
    "t = t.reshape(-1, 12*4*4)\n",
    "t.shape"
   ]
  },
  {
   "cell_type": "code",
   "execution_count": 397,
   "metadata": {},
   "outputs": [
    {
     "data": {
      "text/plain": [
       "torch.Size([7, 120])"
      ]
     },
     "execution_count": 397,
     "metadata": {},
     "output_type": "execute_result"
    }
   ],
   "source": [
    "t = net.fc1(t)\n",
    "t.shape"
   ]
  },
  {
   "cell_type": "code",
   "execution_count": 398,
   "metadata": {},
   "outputs": [
    {
     "data": {
      "text/plain": [
       "torch.Size([7, 60])"
      ]
     },
     "execution_count": 398,
     "metadata": {},
     "output_type": "execute_result"
    }
   ],
   "source": [
    "t = net.fc2(t)\n",
    "t.shape"
   ]
  },
  {
   "cell_type": "code",
   "execution_count": 399,
   "metadata": {},
   "outputs": [],
   "source": [
    "t = net.out(t)\n",
    "t = F.softmax(t, dim=1)"
   ]
  },
  {
   "cell_type": "code",
   "execution_count": 400,
   "metadata": {},
   "outputs": [
    {
     "data": {
      "text/plain": [
       "torch.Size([7, 10])"
      ]
     },
     "execution_count": 400,
     "metadata": {},
     "output_type": "execute_result"
    }
   ],
   "source": [
    "t.shape"
   ]
  },
  {
   "cell_type": "markdown",
   "metadata": {},
   "source": [
    "#### Convolutional layer output formula\n",
    "$$ O = \\dfrac{f-n+2p}{s}+1$$\n",
    "\n",
    "where $f$ is the image size, $n$ is the size of the filter, $p$ is the size of zero padding. To see this, note that the formula is equal to $\\dfrac{f-n+s+2p}{s}$ which can be interpreted as ignoring the last stride which covers $n$ pixels, and replacing that with $s$ pixels, dividing everything by $s$ we get the total number of strides, i.e. the size of the resulting image.\n",
    "$$$$\n",
    "\n",
    "__Example__. $f = 28$, $n = 5$, $p = 0$ and $s = 1$ in the first convolutional layer, so that $O = 24$."
   ]
  },
  {
   "cell_type": "markdown",
   "metadata": {},
   "source": [
    "### Appendix: Basic Theory of Convolutional Neural Networks\n",
    "\n",
    "Deep Lizard series on CNN:\n",
    "\n",
    "https://deeplizard.com/learn/video/YRhxdVk_sIs\n",
    "\n",
    "https://deeplizard.com/learn/video/cNBBNAxC8l4\n",
    "\n",
    "https://deeplizard.com/learn/video/qSTv_m-KFk0\n",
    "\n",
    "https://deeplizard.com/learn/video/ZjM_XQa5s6s\n",
    "\n",
    "https://deeplizard.com/learn/video/gmBfb6LNnZs\n",
    "\n",
    "\n",
    "\n",
    "F. Chollet's blog: __How convolutional neural networks see the world__\n",
    "\n",
    "https://blog.keras.io/how-convolutional-neural-networks-see-the-world.html\n",
    "\n"
   ]
  },
  {
   "cell_type": "code",
   "execution_count": null,
   "metadata": {},
   "outputs": [],
   "source": []
  }
 ],
 "metadata": {
  "kernelspec": {
   "display_name": "py312",
   "language": "python",
   "name": "python3"
  },
  "language_info": {
   "codemirror_mode": {
    "name": "ipython",
    "version": 3
   },
   "file_extension": ".py",
   "mimetype": "text/x-python",
   "name": "python",
   "nbconvert_exporter": "python",
   "pygments_lexer": "ipython3",
   "version": "3.12.7"
  },
  "toc": {
   "base_numbering": 1,
   "nav_menu": {},
   "number_sections": true,
   "sideBar": true,
   "skip_h1_title": false,
   "title_cell": "Table of Contents",
   "title_sidebar": "Contents",
   "toc_cell": false,
   "toc_position": {
    "height": "calc(100% - 180px)",
    "left": "10px",
    "top": "150px",
    "width": "165px"
   },
   "toc_section_display": true,
   "toc_window_display": true
  }
 },
 "nbformat": 4,
 "nbformat_minor": 2
}
